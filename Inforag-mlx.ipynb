{
 "cells": [
  {
   "cell_type": "markdown",
   "id": "d2a34a23-7fbe-40d1-aed2-36a824ec7d4f",
   "metadata": {},
   "source": [
    "# INFO-RAG Implementation with MLX\n",
    "\n",
    "Link: [ml-explore.github.io](https://ml-explore.github.io/mlx/build/html/index.html)\n",
    "\n",
    "# Installation\n",
    "- This notebook is ran on a project that has `uv` installed. So there's no `pip` install section"
   ]
  },
  {
   "cell_type": "code",
   "execution_count": 1,
   "id": "c1e96bf3-8a24-4b2b-8152-46c925780ddf",
   "metadata": {},
   "outputs": [],
   "source": [
    "import mlx.core as mx\n",
    "import joblib\n",
    "\n",
    "# def fun(a, b, d1, d2):\n",
    "#   x = mx.matmul(a, b, stream=d1)\n",
    "#   for _ in range(500):\n",
    "#       b = mx.exp(b, stream=d2)\n",
    "#   return x, b\n",
    "\n",
    "\n",
    "# a = mx.random.uniform(shape=(4096, 512))\n",
    "# b = mx.random.uniform(shape=(512, 4))\n",
    "# d1=mx.gpu\n",
    "# d2=mx.cpu\n",
    "\n",
    "# fun(a,b,d1,d2)"
   ]
  },
  {
   "cell_type": "code",
   "execution_count": 2,
   "id": "885eebe1-afc8-42b3-bb0f-992f71656106",
   "metadata": {},
   "outputs": [],
   "source": [
    "data_list = joblib.load(\"../INFO-RAG/uns_data\")"
   ]
  },
  {
   "cell_type": "code",
   "execution_count": 3,
   "id": "c2b4c7f3-7866-48bf-b7ef-95c492280f90",
   "metadata": {},
   "outputs": [
    {
     "data": {
      "text/plain": [
       "10000"
      ]
     },
     "execution_count": 3,
     "metadata": {},
     "output_type": "execute_result"
    }
   ],
   "source": [
    "data = data_list[:10000]\n",
    "len(data)"
   ]
  },
  {
   "cell_type": "markdown",
   "id": "a3de6453-3ae3-4da4-b9e2-7cc19536d290",
   "metadata": {},
   "source": [
    "# INFORAG Functions"
   ]
  },
  {
   "cell_type": "code",
   "execution_count": 4,
   "id": "2affb50a-a3a1-4b61-ad3f-86b00dd34d4a",
   "metadata": {},
   "outputs": [],
   "source": [
    "import transformers\n",
    "from torch.utils.data import Dataset\n",
    "from dataclasses import dataclass\n",
    "\n",
    "IGNORE_INDEX = -100\n",
    "\n",
    "def tokenize(\n",
    "        prompt,\n",
    "        completion,\n",
    "        tokenizer: transformers.PreTrainedTokenizer,\n",
    "):\n",
    "    \"\"\"Preprocess the data by tokenizing.\"\"\"\n",
    "    source_output = tokenizer.encode(prompt)\n",
    "    input_seq = prompt + ' ' + completion\n",
    "    passage_list = prompt\n",
    "    tokenize_output = tokenizer(input_seq, padding=False, return_tensors=None,max_length=512,truncation=False)\n",
    "    passage_list_tokenize_output = tokenizer(passage_list, padding=False, return_tensors=None, max_length=512, truncation=False)\n",
    "    IGNORE_INDEX = -100\n",
    "    source_len = len(source_output) - 1\n",
    "\n",
    "    tokenize_output[\"labels\"] = copy.deepcopy(tokenize_output[\"input_ids\"])\n",
    "    tokenize_output[\"labels\"] = [IGNORE_INDEX] * source_len + tokenize_output[\"labels\"][source_len:]\n",
    "    return passage_list_tokenize_output,tokenize_output\n",
    "\n",
    "special_token_list = [1,32000,32001]\n",
    "import random\n",
    "class SupervisedDataset(Dataset):\n",
    "    \"\"\"Dataset for supervised fine-tuning.\"\"\"\n",
    "\n",
    "    def __init__(self,\n",
    "                 tokenizer: transformers.PreTrainedTokenizer,\n",
    "                 data_type,\n",
    "                 data_list):\n",
    "        super(SupervisedDataset, self).__init__()\n",
    "        self.tokenizer = tokenizer\n",
    "        self.data_list = data_list\n",
    "\n",
    "        if data_type == 'train':\n",
    "            self.data_list = self.data_list[:int(1.0*len(self.data_list))]\n",
    "        else:\n",
    "            self.data_list = self.data_list[int(0.2*len(self.data_list))+1:]\n",
    "\n",
    "    def __len__(self):\n",
    "        return len(self.data_list)\n",
    "\n",
    "    def __getitem__(self, i):\n",
    "        if i % (1000) == 0 and int(-1) == 0:\n",
    "            sp = subprocess.Popen([\"nvidia-smi\"], stdout=subprocess.PIPE, stderr=subprocess.PIPE)\n",
    "            out_str = sp.communicate()\n",
    "            for out_element in out_str:\n",
    "                for line in str(out_element).split('\\\\n'):\n",
    "                    print(line, file=sys.stderr)\n",
    "        return self.data_list[i]\n",
    "@dataclass\n",
    "class DataCollatorForSupervisedDataset(object):\n",
    "    \"\"\"Collate examples for supervised fine-tuning.\"\"\"\n",
    "\n",
    "    tokenizer: transformers.PreTrainedTokenizer\n",
    "\n",
    "    def __call__(self, instances):\n",
    "        return instances\n"
   ]
  },
  {
   "cell_type": "code",
   "execution_count": 6,
   "id": "75f53935-9837-4ee9-a0d0-64ef4f3601a9",
   "metadata": {},
   "outputs": [
    {
     "data": {
      "text/plain": [
       "25000"
      ]
     },
     "execution_count": 6,
     "metadata": {},
     "output_type": "execute_result"
    }
   ],
   "source": [
    "from torch.utils.data import DataLoader, RandomSampler, SequentialSampler\n",
    "import math\n",
    "\n",
    "train_dataset = SupervisedDataset(tokenizer=tokenizer,data_type='train',data_list=data)\n",
    "train_sampler = SequentialSampler(train_dataset)\n",
    "data_collator = DataCollatorForSupervisedDataset(tokenizer=tokenizer)\n",
    "\n",
    "train_dataloader = DataLoader(train_dataset,\n",
    "                                  collate_fn=data_collator,\n",
    "                                  sampler=train_sampler,\n",
    "                                  shuffle=False,\n",
    "                                  batch_size=4)\n",
    "\n",
    "num_update_steps_per_epoch = math.ceil(\n",
    "        len(train_dataloader) / 0.1) # the higher the lower steps/epoch\n",
    "\n",
    "num_update_steps_per_epoch"
   ]
  },
  {
   "cell_type": "code",
   "execution_count": 7,
   "id": "a2b9a3b5-f7f1-40a7-bd76-c1701b18705c",
   "metadata": {},
   "outputs": [
    {
     "data": {
      "application/vnd.jupyter.widget-view+json": {
       "model_id": "bf250ea662c74588b1a56e50e1446970",
       "version_major": 2,
       "version_minor": 0
      },
      "text/plain": [
       "tokenizer_config.json:   0%|          | 0.00/50.6k [00:00<?, ?B/s]"
      ]
     },
     "metadata": {},
     "output_type": "display_data"
    },
    {
     "data": {
      "application/vnd.jupyter.widget-view+json": {
       "model_id": "95aba8b421b54718b05e9c99fdbb0825",
       "version_major": 2,
       "version_minor": 0
      },
      "text/plain": [
       "tokenizer.json:   0%|          | 0.00/9.09M [00:00<?, ?B/s]"
      ]
     },
     "metadata": {},
     "output_type": "display_data"
    },
    {
     "data": {
      "application/vnd.jupyter.widget-view+json": {
       "model_id": "438529300f79494193d254a36093919f",
       "version_major": 2,
       "version_minor": 0
      },
      "text/plain": [
       "special_tokens_map.json:   0%|          | 0.00/350 [00:00<?, ?B/s]"
      ]
     },
     "metadata": {},
     "output_type": "display_data"
    }
   ],
   "source": [
    "from transformers import AutoTokenizer\n",
    "\n",
    "model_name_or_path = \"unsloth/llama-3-8b-bnb-4bit\"\n",
    "\n",
    "tokenizer = AutoTokenizer.from_pretrained(\n",
    "  model_name_or_path, fast_tokenizer=True)\n",
    "tokenizer.pad_token = tokenizer.eos_token\n",
    "# make sure tokenizer is right pad in our logic\n",
    "tokenizer.padding_side = 'right'\n"
   ]
  },
  {
   "cell_type": "markdown",
   "id": "2f9552c3-6c14-417b-96d7-5fcd9634e912",
   "metadata": {},
   "source": [
    "## Tokenize"
   ]
  },
  {
   "cell_type": "code",
   "execution_count": 15,
   "id": "b2d21c4f-e3ba-4cb1-ac79-e9fd717edebd",
   "metadata": {
    "jupyter": {
     "source_hidden": true
    }
   },
   "outputs": [
    {
     "name": "stderr",
     "output_type": "stream",
     "text": [
      "2500it [00:43, 57.22it/s]\n"
     ]
    }
   ],
   "source": [
    "import os\n",
    "import copy\n",
    "from tqdm import tqdm\n",
    "\n",
    "instances_new = []\n",
    "data_tag = 0\n",
    "\n",
    "datasets = []\n",
    "cac,cs,sc = [],[],[]\n",
    "for step, data_list in tqdm(enumerate(train_dataloader)):\n",
    "    ### data start ###\n",
    "    instances_new = []\n",
    "    data_tag = 0\n",
    "    for i in range(len(data_list)):\n",
    "        if step%10 < 4:  # Correct and Complete\n",
    "            data_tag = 0\n",
    "            special_token = '[REFERENCE]'\n",
    "            passage_list = data_list[i][2]\n",
    "            score_list = data_list[i][3]\n",
    "            passage_ids_list = []\n",
    "            for passage in passage_list:\n",
    "                input_passage_text = (special_token + ' ' + passage)\n",
    "                output_passage, output_all_token = tokenize(input_passage_text, '',\n",
    "                                                            tokenizer)\n",
    "                output_passage_token_ids = output_passage['input_ids']\n",
    "                label_ids = output_passage_token_ids\n",
    "\n",
    "                mask_probability = 0.3 #process 30% tokens\n",
    "\n",
    "                masked_indices = [i for i in range(int(len(output_passage_token_ids) / 3),len(output_passage_token_ids)) if\n",
    "                                  random.random() < mask_probability]\n",
    "                masked_ids = []\n",
    "                idx = 0\n",
    "                masked_idx = []\n",
    "                while idx < len(output_passage_token_ids):\n",
    "                    if (not (idx in masked_indices)) or (output_passage_token_ids[idx] in special_token_list):\n",
    "                        masked_ids.append(output_passage_token_ids[idx])\n",
    "                        idx += 1\n",
    "                    else:  # Process two tokens consecutively\n",
    "                        rand_num = random.random()\n",
    "                        if rand_num < 0.5:  # [MASK]\n",
    "                            masked_ids.append(32000)\n",
    "                        elif rand_num > 0.5 and rand_num < 0.6:  # Keep\n",
    "                            masked_ids.append(output_passage_token_ids[idx])\n",
    "                        else:\n",
    "                            masked_ids.append(random.randint(3, 31999))  # Replace\n",
    "                        masked_idx.append(idx)\n",
    "                        idx += 1\n",
    "                        if idx < len(output_passage_token_ids) and (\n",
    "                        not (output_passage_token_ids[idx] in special_token_list)):\n",
    "                            rand_num = random.random()\n",
    "                            if rand_num < 0.5:  # [MASK]\n",
    "                                masked_ids.append(32000)\n",
    "                            elif rand_num > 0.5 and rand_num < 0.6:  # Keep\n",
    "                                masked_ids.append(output_passage_token_ids[idx])\n",
    "                            else:\n",
    "                                masked_ids.append(random.randint(3, 31999))  # Replace\n",
    "                            masked_idx.append(idx)\n",
    "                            idx += 1\n",
    "                passage_ids_list.append((label_ids, masked_ids))\n",
    "\n",
    "            query_ids = tokenize(\n",
    "                'Complete this text according to the above [REFERENCE]: ' + data_list[i][1], '',\n",
    "                tokenizer)[0]['input_ids'][1:] # remove start token\n",
    "            selected_s_i = 0\n",
    "            for s_i in range(len(score_list)):\n",
    "                if score_list[s_i] == 0:\n",
    "                    selected_s_i = s_i\n",
    "                    break\n",
    "            trace_ids = tokenize(\n",
    "                'This content is generated according to my knowledge and [REFERENCE] number {}'.format(selected_s_i), '',\n",
    "                tokenizer)[0]['input_ids'][1:] # remove start token\n",
    "            start_generation = random.randint(int(len(query_ids) / 2),int((3 * len(query_ids)) / 4))\n",
    "            answer_label_ids = [IGNORE_INDEX]*start_generation + query_ids[start_generation:] + trace_ids\n",
    "            input_passage_ids = [1]\n",
    "            origin_ids = [1]\n",
    "            for item in passage_ids_list:\n",
    "                input_passage_ids += item[1][1:]\n",
    "                origin_ids += item[0][1:]\n",
    "            input_ids = input_passage_ids + query_ids + trace_ids\n",
    "            labels = [IGNORE_INDEX] * len(input_passage_ids) + answer_label_ids\n",
    "\n",
    "            #print(\"CoC\",tokenizer.decode(input_ids),\"\\n\")\n",
    "            #print(\"CoC ans\",tokenizer.decode(query_ids[start_generation:] + trace_ids),\"\\n\")\n",
    "            cac.append({\"text\": tokenizer.decode(input_ids)})\n",
    "            \n",
    "\n",
    "        elif step%10 >= 4 and step%10 < 8:  # Contextual Stimulation\n",
    "            data_tag = 1\n",
    "            special_token = '[REFERENCE]'\n",
    "            passage_list = data_list[i][2]\n",
    "            selected_passage = '[QUERY] ' + data_list[i][1]\n",
    "            score_list = data_list[i][3]\n",
    "            score_list_fuben = []\n",
    "            for s in score_list:\n",
    "                if not s == 0:\n",
    "                    score_list_fuben.append(s)\n",
    "            if len(score_list) > 1:\n",
    "                score_list = score_list_fuben\n",
    "            passage_ids_list = []\n",
    "            for passage in passage_list:\n",
    "                input_passage_text = (special_token + ' ' + passage)\n",
    "                output_passage, output_all_token = tokenize(input_passage_text, selected_passage,\n",
    "                                                            tokenizer)\n",
    "                output_passage_token_ids = output_passage['input_ids']\n",
    "                label_ids = output_passage_token_ids\n",
    "                if passage == data_list[i][1]:\n",
    "                    selected_ids = label_ids\n",
    "                else:\n",
    "                    passage_ids_list.append(label_ids)\n",
    "\n",
    "            query_ids = tokenize(\n",
    "                'Complete this text according to the above [REFERENCE]: ' + data_list[i][1], '',\n",
    "                tokenizer)[0]['input_ids'][1:] # remove start token\n",
    "            selected_s_i = 0\n",
    "            for s_i in range(len(score_list)):\n",
    "                if score_list[s_i] == 0:\n",
    "                    selected_s_i = s_i\n",
    "                    break\n",
    "            trace_ids = tokenize(\n",
    "                'This content is generated according to my knowledge'.format(selected_s_i), '',\n",
    "                tokenizer)[0]['input_ids'][1:] # remove start token\n",
    "            start_generation = random.randint(int(len(query_ids) / 2),int((3 * len(query_ids)) / 4))\n",
    "            answer_label_ids = [IGNORE_INDEX]*start_generation + query_ids[start_generation:] + trace_ids\n",
    "            input_passage_ids = [1]\n",
    "            origin_ids = [1]\n",
    "            for item in passage_ids_list:\n",
    "                input_passage_ids += item[1:]\n",
    "                origin_ids += item[1:]\n",
    "            input_ids = input_passage_ids + query_ids + trace_ids\n",
    "            labels = [IGNORE_INDEX] * len(input_passage_ids) + answer_label_ids\n",
    "\n",
    "            #print(\"CS\",tokenizer.decode(input_ids),\"\\n\")\n",
    "            #print(\"CS ans\", tokenizer.decode(query_ids[start_generation:] + trace_ids),\"\\n\")\n",
    "            cs.append({\"text\":tokenizer.decode(input_ids)})\n",
    "\n",
    "\n",
    "\n",
    "        else:  # Select and Copy\n",
    "            data_tag = 2\n",
    "            special_token = '[REFERENCE]'\n",
    "            passage_list = data_list[i][2]\n",
    "            selected_passage = '[QUERY] ' + data_list[i][1]\n",
    "            score_list = data_list[i][3]\n",
    "            passage_ids_list = []\n",
    "            for passage in passage_list:\n",
    "                input_passage_text = (special_token + ' ' + passage)\n",
    "                output_passage, output_all_token = tokenize(input_passage_text, selected_passage,\n",
    "                                                            tokenizer)\n",
    "                output_passage_token_ids = output_passage['input_ids']\n",
    "                label_ids = output_passage_token_ids\n",
    "                passage_ids_list.append(label_ids)\n",
    "            query_ids = tokenize(\n",
    "                'Complete this text according to the above [REFERENCE]: ' + data_list[i][1], '',\n",
    "                tokenizer)[0]['input_ids'][1:] # remove start token\n",
    "            selected_s_i = 0\n",
    "            for s_i in range(len(score_list)):\n",
    "                if score_list[s_i] == 0:\n",
    "                    selected_s_i = s_i\n",
    "                    break\n",
    "            trace_ids = tokenize(\n",
    "                'This content is generated according to [REFERENCE] number {}'.format(selected_s_i), '',\n",
    "                tokenizer)[0]['input_ids'][1:] # remove start token\n",
    "            start_generation = random.randint(int(len(query_ids) / 2),int((3 * len(query_ids)) / 4))\n",
    "            answer_label_ids = [IGNORE_INDEX]*start_generation + query_ids[start_generation:] + trace_ids\n",
    "            input_passage_ids = [1]\n",
    "            for item in passage_ids_list:\n",
    "                input_passage_ids += item[1:]\n",
    "            input_ids = input_passage_ids + query_ids + trace_ids\n",
    "            labels = [IGNORE_INDEX] * len(input_passage_ids) + answer_label_ids\n",
    "\n",
    "            #print(\"SC\",tokenizer.decode(input_ids),\"\\n\")\n",
    "            #print(\"SC ans\", tokenizer.decode(query_ids[start_generation:] + trace_ids),\"\\n\")\n",
    "            sc.append({\"text\":tokenizer.decode(input_ids)})\n",
    "        #print(tokenizer.decode(input_ids))\n",
    "        #end\n",
    "#datasets[0]\n",
    "\n"
   ]
  },
  {
   "cell_type": "code",
   "execution_count": 16,
   "id": "667dc9fa-6805-4060-8b3b-55f39c0a256a",
   "metadata": {},
   "outputs": [
    {
     "name": "stdout",
     "output_type": "stream",
     "text": [
      "4000 2000 4000\n",
      "3200 799\n",
      "1600 399\n",
      "3200 799\n"
     ]
    }
   ],
   "source": [
    "import json\n",
    "from itertools import chain\n",
    "\n",
    "#cac = [data['cac'] if 'cac' in data.keys() for data in datasets]\n",
    "print(len(cac),len(sc),len(cs))\n",
    "\n",
    "cac_train = cac[:int((len(cac)+1)*.80)] #Remaining 80% to training set\n",
    "cac_test = cac[int(len(cac)*.80+1):] #Splits 20% data to test set\n",
    "\n",
    "sc_train = sc[:int((len(sc)+1)*.80)] #Remaining 80% to training set\n",
    "sc_test = sc[int(len(sc)*.80+1):] #Splits 20% data to test set\n",
    "\n",
    "cs_train = cs[:int((len(cs)+1)*.80)] #Remaining 80% to training set\n",
    "cs_test = cs[int(len(cs)*.80+1):] #Splits 20% data to test set\n",
    "\n",
    "print(len(cac_train),len(cac_test))\n",
    "print(len(sc_train),len(sc_test))\n",
    "print(len(cs_train),len(cs_test))\n",
    "\n",
    "train = []\n",
    "test = []\n",
    "\n",
    "train.extend(cac_train)\n",
    "train.extend(sc_train)\n",
    "train.extend(cs_train)\n",
    "\n",
    "test.extend(cac_test)\n",
    "test.extend(sc_test)\n",
    "test.extend(cs_test)\n",
    "\n",
    "#len(cac)\n",
    "with open(\"train.jsonl\", \"w\") as f:\n",
    "    for data in train:\n",
    "        json_string = json.dumps(data)\n",
    "        f.write(f\"{json_string}\\n\")\n",
    "\n",
    "with open(\"test.jsonl\", \"w\") as f:\n",
    "    for data in test:\n",
    "        json_string = json.dumps(data)\n",
    "        f.write(f\"{json_string}\\n\")\n",
    "\n",
    "with open(\"data.jsonl\",\"w\") as f:\n",
    "    for data in chain(cac,sc,cs):\n",
    "        json_string = json.dumps(data)\n",
    "        f.write(f\"{json_string}\\n\")"
   ]
  }
 ],
 "metadata": {
  "kernelspec": {
   "display_name": "Python 3 (ipykernel)",
   "language": "python",
   "name": "python3"
  },
  "language_info": {
   "codemirror_mode": {
    "name": "ipython",
    "version": 3
   },
   "file_extension": ".py",
   "mimetype": "text/x-python",
   "name": "python",
   "nbconvert_exporter": "python",
   "pygments_lexer": "ipython3",
   "version": "3.12.10"
  }
 },
 "nbformat": 4,
 "nbformat_minor": 5
}
